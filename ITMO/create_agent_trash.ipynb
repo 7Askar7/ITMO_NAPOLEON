{
 "cells": [
  {
   "cell_type": "code",
   "execution_count": 1,
   "metadata": {},
   "outputs": [],
   "source": [
    "from agent_module.llm_request import send_request_choco\n",
    "from agent_module.Gigachat import GigaChatBOT\n",
    "\n",
    "gigachat = GigaChatBOT()\n",
    "\n",
    "PROMPT_CLASSIFICATION = \"\"\"Определи, является ли этот текст про запрос про кофе.\n",
    "                           Пользователь должен задавать вопрос по название кофе или просто про кофе.\n",
    "                           Вывод сделай в формате (строго следуй формату, не пиши ничего лишнего):\n",
    "                           Является тематикаой: да или нет\"\"\"\n",
    "\n",
    "PROMPT_DIALOGUE = \"\"\"\n",
    "Проанализируй текст сообщения пользователя и определи, хочет ли он продолжать диалог. \n",
    "Оцени его тон, интерес, вопросы, намеки на будущее общение и любые признаки отказа или закрытия темы.\n",
    "Не опирайся только на конкретные слова \"да\" или \"нет\", учитывай контекст всего сообщения.\n",
    "Если пользователь проявляет интерес, задает уточняющие вопросы или выражает готовность к дальнейшему обсуждению, то он хочет продолжать диалог. \n",
    "Если он выражает отказ, завершает общение или не проявляет интереса к дальнейшим контактам, то он не хочет продолжать диалог.\n",
    "\n",
    "Вывод сделай в формате (строго следуй формату, не пиши ничего лишнего):\n",
    "Хочет продолжать диалог: да или нет\n",
    "\"\"\"\n",
    "\n",
    "PROMPT_DETECTION = \"\"\"\n",
    "Проанализируй текст сообщения пользователя и определи, указал ли он один из следующих контактов:\n",
    "1. Электронную почту\n",
    "2. Номер телефона\n",
    "3. Ссылку на Instagram\n",
    "4. Ссылку на Telegram\n",
    "\n",
    "Если контакт указан, выведи его. Если контакт не указан, напиши \"нет\".\n",
    "\n",
    "Вывод сделай в формате (строго следуй формату):\n",
    "Контакт: указанный контакт или нет\n",
    "\"\"\"\n",
    "PROMT_QUESTION_COMPANY = \"\"\"\n",
    "            Тебе нужно определить, интересуется ли человек информацией о компании или процессами, связанными с ее работой.\n",
    "            Требуется выявить только те вопросы, которые напрямую касаются компании.\n",
    "            Результат должен быть представлен в формате(Строго следуй формату вывода):\n",
    "            Company ask: да или нет.\n",
    "        \"\"\"\n",
    "\n",
    "PROMPT_FOR_GENERATION = \"\"\"Ты эксперт по продажам. Ты должен продать товар пользователю.\n",
    "                           На основе отзывов и запроса пользователя сгенерируй красивый ответ.\n",
    "                           Ответ должен понравится пользоватлю, отобрадать, то что просил пользователь.\n",
    "                           Генерируй только текст без различных добавлений и галюцинаций.\n",
    "                           Пиши текст от лица первого лица как крутой эксперт по продажам.\n",
    "                           \"\"\""
   ]
  },
  {
   "cell_type": "code",
   "execution_count": 2,
   "metadata": {},
   "outputs": [],
   "source": [
    "\n",
    "class AgentBot:\n",
    "\n",
    "    def __init__(self) -> None:\n",
    "        pass\n",
    "\n",
    "    def check_coffe_dialog(self, answer):\n",
    "\n",
    "        get_answer = {\"да\": 0, \"нет\": 0} \n",
    "\n",
    "        for i in range(0, 3):\n",
    "            \n",
    "            #topic = send_request_choco(PROMPT_CLASSIFICATION, answer)\n",
    "            topic = gigachat.query_text(PROMPT_CLASSIFICATION, answer)\n",
    "\n",
    "            if \"да\" in topic.lower():\n",
    "                get_answer[\"да\"] += 1\n",
    "            else:\n",
    "                get_answer[\"нет\"] += 1\n",
    "\n",
    "\n",
    "        if get_answer[\"да\"] > get_answer[\"нет\"]:\n",
    "            result = \"да\"\n",
    "        elif get_answer[\"нет\"] > get_answer[\"да\"]:\n",
    "            result = \"нет\"\n",
    "\n",
    "        return result \n",
    "\n",
    "\n",
    "    def check_dialog_contionue(self, answer):\n",
    "\n",
    "        get_answer_dialog = {\"да\": 0, \"нет\": 0} \n",
    "\n",
    "        for i in range(0, 3):\n",
    "            #topic_dialog = send_request_choco(PROMPT_DIALOGUE, answer)\n",
    "            topic_dialog = gigachat.query_text(PROMPT_DIALOGUE, answer)\n",
    "\n",
    "            if \"да\" in topic_dialog.lower():\n",
    "                get_answer_dialog[\"да\"] += 1\n",
    "            else:\n",
    "                get_answer_dialog[\"нет\"] += 1\n",
    "\n",
    "\n",
    "        if get_answer_dialog[\"да\"] > get_answer_dialog[\"нет\"]:\n",
    "            result_dialog = \"да\"\n",
    "        elif get_answer_dialog[\"нет\"] > get_answer_dialog[\"да\"]:\n",
    "            result_dialog = \"нет\"\n",
    "\n",
    "        return result_dialog\n",
    "\n",
    "    def retrieve_contact(self, answer):\n",
    "\n",
    "        get_answer_contact = {\"contact\": 0, \"нет\": 0} \n",
    "\n",
    "        for i in range(0, 3):\n",
    "            contact = gigachat.query_text(PROMPT_DETECTION, answer)\n",
    "\n",
    "            if \"нет\" in contact.lower():\n",
    "                get_answer_contact[\"нет\"] += 1\n",
    "            else:\n",
    "                get_answer_contact[\"contact\"] += 1\n",
    "\n",
    "            if get_answer_contact[\"contact\"] > get_answer_contact[\"нет\"]:\n",
    "                result_contact = contact.split(\":\")[1].split()\n",
    "                \n",
    "            elif get_answer_contact[\"нет\"] > get_answer_contact[\"contact\"]:\n",
    "                result_contact = \"нет\"\n",
    "\n",
    "            return result_contact\n",
    "\n",
    "    def company_ask_detection(self, answer):\n",
    "\n",
    "        get_answer_company = {\"да\": 0, \"нет\": 0} \n",
    "\n",
    "        for i in range(0, 3):\n",
    "            #contact = send_request_choco(PROMT_QUESTION_COMPANY, answer)\n",
    "            contact = gigachat.query_text(PROMT_QUESTION_COMPANY, answer)\n",
    "            if \"нет\" in contact.lower():\n",
    "                get_answer_company[\"нет\"] += 1\n",
    "            else:\n",
    "                get_answer_company[\"да\"] += 1\n",
    "            if get_answer_company[\"да\"] > get_answer_company[\"нет\"]:\n",
    "                result_contact = contact.split(\":\")[1].split()\n",
    "            elif get_answer_company[\"нет\"] > get_answer_company[\"да\"]:\n",
    "                result_contact = \"нет\"\n",
    "\n",
    "            return result_contact"
   ]
  },
  {
   "cell_type": "code",
   "execution_count": 27,
   "metadata": {},
   "outputs": [
    {
     "data": {
      "text/plain": [
       "['да']"
      ]
     },
     "execution_count": 27,
     "metadata": {},
     "output_type": "execute_result"
    }
   ],
   "source": [
    "answer = \"\"\"Добрый день Подскажите, пожалуйста, откуда у вас мой контакт?\"\"\"\n",
    "\n",
    "company_ask_detection(answer)"
   ]
  },
  {
   "cell_type": "code",
   "execution_count": 7,
   "metadata": {},
   "outputs": [
    {
     "name": "stdout",
     "output_type": "stream",
     "text": [
      "Привет! Я рад, что ты интересуешься кофе. Судя по отзывам, которые ты предоставил, кофе \"Бэрри\" и \"Натти\" пользуются большой популярностью среди покупателей. В отзывах часто упоминается отличный вкус и качество этих марок. Если ты решишь попробовать кофе \"Бэрри\", то я бы рекомендовал начать с вкуса \"Очень хороший кофе\". А если выберешь \"Натти\", то обрати внимание на отзывы о вкусе \"Отличный кофе\". Надеюсь, мой совет поможет тебе выбрать вкусный кофе!\n"
     ]
    }
   ],
   "source": [
    "from DB.db_request import send_query\n",
    "from agent_module.llm_request import send_request_choco\n",
    "\n",
    "answer = \"\"\"Расскажи мне про вкусное кофе\"\"\"\n",
    "\n",
    "cof = AgentBot().check_coffe_dialog(answer)\n",
    "\n",
    "if cof == \"да\":\n",
    "    #mod = send_request(PROMT_FOR_GET_TOP_VIEWS, answer)\n",
    "    mod = gigachat.query_text(PROMT_FOR_GET_TOP_VIEWS, answer)\n",
    "    retr = send_query(answer, 5)\n",
    "    USER_PROMPT = f\"\"\"Запрос пользователя: {answer}\n",
    "                      Отзывы: {retr}\"\"\"\n",
    "    #otvet = send_request(PROMPT_FOR_GENERATION, USER_PROMPT)\n",
    "    otvet = gigachat.query_text(PROMPT_FOR_GENERATION, USER_PROMPT)\n",
    "    print(otvet)\n",
    "else:\n",
    "    res_dial = AgentBot().check_dialog_contionue(answer)\n",
    "    contact = AgentBot().retrieve_contact(answer)\n",
    "    if contact.lower() != \"нет\":\n",
    "        \n",
    "    print(res_dial)\n",
    "    print(contact)\n"
   ]
  },
  {
   "cell_type": "code",
   "execution_count": 18,
   "metadata": {},
   "outputs": [
    {
     "name": "stdout",
     "output_type": "stream",
     "text": [
      "Результат: Письмо отправлено!\n"
     ]
    }
   ],
   "source": [
    "import requests\n",
    "import json\n",
    "#напишите мне пожалуйста на popset26@gmail.com\n",
    "# Какие самые негативные темы обсуждают пользовтаели\n",
    "# \"напишите мне пожалуйста на asck.petrov@yandex.ru\"\n",
    "# удалите мой контакт из вашей рассылки\n",
    "# \"Расскажи мне про вкусный кофе\"\n",
    "# URL вашего API\n",
    "url = \"http://localhost:8002/query\"\n",
    "\n",
    "# Данные, которые мы отправляем в запросе\n",
    "data = {\n",
    "    \"answer\": \"напишите мне пожалуйста на popset26@gmail.com\"\n",
    "}\n",
    "\n",
    "# Отправляем POST-запрос\n",
    "response = requests.post(url, json=data)\n",
    "\n",
    "# Проверяем, успешен ли запрос\n",
    "if response.status_code == 200:\n",
    "    # Если успешен, выводим результат\n",
    "    result = response.json()\n",
    "    print(\"Результат:\", result['result'])\n",
    "else:\n",
    "    # Если произошла ошибка, выводим сообщение\n",
    "    print(f\"Ошибка {response.status_code}: {response.text}\")\n",
    "\n"
   ]
  },
  {
   "cell_type": "code",
   "execution_count": null,
   "metadata": {},
   "outputs": [],
   "source": [
    "# в ответах учитывать конкретные числа (упоминаний и тд)"
   ]
  }
 ],
 "metadata": {
  "kernelspec": {
   "display_name": "env_llms",
   "language": "python",
   "name": "python3"
  },
  "language_info": {
   "codemirror_mode": {
    "name": "ipython",
    "version": 3
   },
   "file_extension": ".py",
   "mimetype": "text/x-python",
   "name": "python",
   "nbconvert_exporter": "python",
   "pygments_lexer": "ipython3",
   "version": "3.10.14"
  }
 },
 "nbformat": 4,
 "nbformat_minor": 2
}
