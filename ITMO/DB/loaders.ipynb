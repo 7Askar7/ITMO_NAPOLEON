{
 "cells": [
  {
   "cell_type": "code",
   "execution_count": 9,
   "metadata": {},
   "outputs": [],
   "source": [
    "import sqlite3\n",
    "import pandas as pd\n",
    "\n",
    "\n",
    "# Подключаемся к базе данных\n",
    "conn = sqlite3.connect('C:\\\\Users\\\\Askar\\\\VS_CODE\\\\Python\\\\HACKATON\\\\ITMO\\\\DB\\\\hack.db')\n",
    "\n",
    "# Создаем курсор\n",
    "cursor = conn.cursor()\n",
    "\n",
    "# Выполняем запрос и загружаем данные в DataFrame\n",
    "res = pd.read_sql('select * from info', con=conn)\n",
    "\n",
    "# Закрываем соединение\n",
    "conn.close()\n",
    "\n",
    "coffe_data = pd.DataFrame(res)"
   ]
  },
  {
   "cell_type": "code",
   "execution_count": 11,
   "metadata": {},
   "outputs": [
    {
     "data": {
      "text/plain": [
       "Product Name\n",
       "Дрип кофе Tasty Coffee Бэрри, 10 шт. по 11,5 г              141\n",
       "Кофе в зернах Tasty Coffee Бразилия Серрадо, 250 г           81\n",
       "Дрип кофе Tasty Coffee Бэрри, 30 шт. по 11,5 г               66\n",
       "Дрип кофе Tasty Coffee Drip Mix, 20 шт. по 11,5 г            66\n",
       "Кофе в зернах Tasty Coffee Бразилия Суль-де-Минас, 250 г     65\n",
       "Кофе в зернах Tasty Coffee Бразилия Можиана, 250 г           63\n",
       "Кофе в зернах Tasty Coffee Натти, 250 г                      46\n",
       "Кофе в зернах Tasty Coffee Колумбия Богота, 250 г            44\n",
       "Кофе в зернах Tasty Coffee Натти, 1000 г                     41\n",
       "Name: count, dtype: int64"
      ]
     },
     "execution_count": 11,
     "metadata": {},
     "output_type": "execute_result"
    }
   ],
   "source": [
    "coffe_data[\"Product Name\"].value_counts()"
   ]
  },
  {
   "cell_type": "code",
   "execution_count": 2,
   "metadata": {},
   "outputs": [
    {
     "ename": "NameError",
     "evalue": "name 'coffe_data' is not defined",
     "output_type": "error",
     "traceback": [
      "\u001b[1;31m---------------------------------------------------------------------------\u001b[0m",
      "\u001b[1;31mNameError\u001b[0m                                 Traceback (most recent call last)",
      "Cell \u001b[1;32mIn[2], line 1\u001b[0m\n\u001b[1;32m----> 1\u001b[0m \u001b[43mcoffe_data\u001b[49m\u001b[38;5;241m.\u001b[39msample(\u001b[38;5;241m5\u001b[39m)\n",
      "\u001b[1;31mNameError\u001b[0m: name 'coffe_data' is not defined"
     ]
    }
   ],
   "source": [
    "coffe_data.sample(5)"
   ]
  },
  {
   "cell_type": "code",
   "execution_count": 1,
   "metadata": {},
   "outputs": [
    {
     "name": "stderr",
     "output_type": "stream",
     "text": [
      "c:\\Users\\Askar\\anaconda3\\envs\\papa\\lib\\site-packages\\sentence_transformers\\cross_encoder\\CrossEncoder.py:11: TqdmExperimentalWarning: Using `tqdm.autonotebook.tqdm` in notebook mode. Use `tqdm.tqdm` instead to force console mode (e.g. in jupyter console)\n",
      "  from tqdm.autonotebook import tqdm, trange\n"
     ]
    },
    {
     "ename": "",
     "evalue": "",
     "output_type": "error",
     "traceback": [
      "\u001b[1;31mПри выполнении кода в текущей ячейке или предыдущей ячейке ядро аварийно завершило работу. \n",
      "\u001b[1;31mПроверьте код в ячейках, чтобы определить возможную причину сбоя. \n",
      "\u001b[1;31mЩелкните <a href='https://aka.ms/vscodeJupyterKernelCrash'>здесь</a>, чтобы получить дополнительные сведения. \n",
      "\u001b[1;31mПодробнее см. в <a href='command:jupyter.viewOutput'>журнале Jupyter</a>."
     ]
    }
   ],
   "source": [
    "import chromadb\n",
    "from chromadb.utils import embedding_functions\n",
    "\n",
    "client = chromadb.PersistentClient(path=\"C:\\\\Users\\\\Askar\\\\VS_CODE\\\\Python\\\\HACKATON\\\\ITMO\\\\DB\\\\vector_hack\")\n",
    "sentence_transformer_ef = embedding_functions.SentenceTransformerEmbeddingFunction(model_name=\"intfloat/multilingual-e5-large\")\n",
    "col = client.get_or_create_collection(name=\"hack\", embedding_function=sentence_transformer_ef)\n",
    "# пример запроса\n",
    "results = col.query(\n",
    "    query_texts=[\"Кофе вкусный, negative\"],\n",
    "    n_results=5,\n",
    "    include=['documents', 'distances', 'metadatas']\n",
    ")\n",
    "print(results['metadatas'])\n",
    "print(results['documents'])"
   ]
  },
  {
   "cell_type": "code",
   "execution_count": 25,
   "metadata": {},
   "outputs": [
    {
     "name": "stdout",
     "output_type": "stream",
     "text": [
      "[[89.63629913330078, 86.84617614746094]]\n"
     ]
    }
   ],
   "source": [
    "import torch.nn.functional as F\n",
    "\n",
    "from torch import Tensor\n",
    "from transformers import AutoTokenizer, AutoModel\n",
    "\n",
    "\n",
    "def average_pool(last_hidden_states: Tensor,\n",
    "                 attention_mask: Tensor) -> Tensor:\n",
    "    last_hidden = last_hidden_states.masked_fill(~attention_mask[..., None].bool(), 0.0)\n",
    "    return last_hidden.sum(dim=1) / attention_mask.sum(dim=1)[..., None]\n",
    "\n",
    "\n",
    "# Each input text should start with \"query: \" or \"passage: \", even for non-English texts.\n",
    "# For tasks other than retrieval, you can simply use the \"query: \" prefix.\n",
    "input_texts = [\"хороший\", \"положительный\", \"популярный\"]\n",
    "tokenizer = AutoTokenizer.from_pretrained('intfloat/multilingual-e5-large')\n",
    "model = AutoModel.from_pretrained('intfloat/multilingual-e5-large')\n",
    "\n",
    "# Tokenize the input texts\n",
    "batch_dict = tokenizer(input_texts, max_length=512, padding=True, truncation=True, return_tensors='pt')\n",
    "\n",
    "outputs = model(**batch_dict)\n",
    "embeddings = average_pool(outputs.last_hidden_state, batch_dict['attention_mask'])\n",
    "\n",
    "# normalize embeddings\n",
    "embeddings = F.normalize(embeddings, p=2, dim=1)\n",
    "scores = (embeddings[:1] @ embeddings[1:].T) * 100\n",
    "print(scores.tolist())\n"
   ]
  },
  {
   "cell_type": "code",
   "execution_count": 12,
   "metadata": {},
   "outputs": [],
   "source": [
    "import sys\n",
    "\n",
    "sys.path.append(\"C:\\\\Users\\\\Askar\\\\VS_CODE\\\\Python\\\\HACKATON\\\\ITMO\\\\\")"
   ]
  },
  {
   "cell_type": "code",
   "execution_count": 7,
   "metadata": {},
   "outputs": [
    {
     "name": "stdout",
     "output_type": "stream",
     "text": [
      "1. Число пакетиков: 10\n",
      "2. Единиц в одном товаре: 10\n",
      "3. Название вкуса: Бэрри\n",
      "4. Аромат и вкус средний\n",
      "5. Заваривать удобно и быстро\n",
      "6. Кофе вкусный, с лёгкой кислинкой, ароматный\n",
      "7. Удобно заваривать в чашке\n",
      "1. Вес товара, г: 250\n",
      "2. Единиц в одном товаре: 1\n",
      "3. Название вкуса: Натти\n"
     ]
    }
   ],
   "source": [
    "from Gigachat import GigaChatBOT\n",
    "from prompts import PROMPT_FOR_GET_ATRIBUTE, PROMPT_FOR_GET_ATRIBUTE_FINALL\n",
    "\n",
    "gigachat = GigaChatBOT().init_gigachat()\n",
    "\n",
    "uniq_names = list(set(list(coffe_data[\"Product Name\"])))\n",
    "\n",
    "for name in uniq_names[:2]:\n",
    "    if name:\n",
    "        reviews = list(coffe_data[coffe_data['Product Name'] == name][\"Review Text\"])\n",
    "        res = \"\"\n",
    "        for rev in range(0,len(reviews), 20):\n",
    "            result = GigaChatBOT().query_text(gigachat, reviews[rev:rev+20], PROMPT_FOR_GET_ATRIBUTE)\n",
    "            res += result + \"\\n\\n\"\n",
    "\n",
    "        fianll_result = result = GigaChatBOT().query_text(gigachat, res, PROMPT_FOR_GET_ATRIBUTE_FINALL)\n",
    "        print(fianll_result)\n",
    "\n",
    "            "
   ]
  },
  {
   "cell_type": "code",
   "execution_count": null,
   "metadata": {},
   "outputs": [],
   "source": []
  },
  {
   "cell_type": "code",
   "execution_count": null,
   "metadata": {},
   "outputs": [],
   "source": [
    "Sentiment == Negative \n",
    "\n",
    "coffe_data[coffe_data[\"Sentiment\"] == \"Negative\"]"
   ]
  }
 ],
 "metadata": {
  "kernelspec": {
   "display_name": "papa",
   "language": "python",
   "name": "python3"
  },
  "language_info": {
   "codemirror_mode": {
    "name": "ipython",
    "version": 3
   },
   "file_extension": ".py",
   "mimetype": "text/x-python",
   "name": "python",
   "nbconvert_exporter": "python",
   "pygments_lexer": "ipython3",
   "version": "3.10.14"
  }
 },
 "nbformat": 4,
 "nbformat_minor": 2
}
